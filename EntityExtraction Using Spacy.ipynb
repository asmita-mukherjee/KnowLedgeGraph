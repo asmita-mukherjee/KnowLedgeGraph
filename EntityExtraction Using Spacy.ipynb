{
 "cells": [
  {
   "cell_type": "code",
   "execution_count": 1,
   "id": "ec94a87e-aa11-4e29-85c0-22a3e73e3c6f",
   "metadata": {},
   "outputs": [],
   "source": [
    "import pandas as pd"
   ]
  },
  {
   "cell_type": "code",
   "execution_count": 28,
   "id": "6af6ccb6-5e47-4aff-a988-fc26318f5123",
   "metadata": {},
   "outputs": [],
   "source": [
    "import spacy"
   ]
  },
  {
   "cell_type": "markdown",
   "id": "f25d9f54-73bc-4466-8c3a-fc55b69de48d",
   "metadata": {
    "tags": []
   },
   "source": [
    "## Load the dataset"
   ]
  },
  {
   "cell_type": "code",
   "execution_count": 2,
   "id": "8538d252-59c6-4d86-9e2a-32acd54cf613",
   "metadata": {},
   "outputs": [],
   "source": [
    "path_to_the_data = 'Data\\wiki_movie_plots_deduped.csv'"
   ]
  },
  {
   "cell_type": "code",
   "execution_count": 3,
   "id": "dc975410-9832-4f02-8ea2-630b6fb3a742",
   "metadata": {},
   "outputs": [],
   "source": [
    "dataset = pd.read_csv(path_to_the_data)"
   ]
  },
  {
   "cell_type": "code",
   "execution_count": 4,
   "id": "60813012-bc0d-4d2e-b522-81f6bdca9b38",
   "metadata": {},
   "outputs": [
    {
     "name": "stdout",
     "output_type": "stream",
     "text": [
      "<class 'pandas.core.frame.DataFrame'>\n",
      "RangeIndex: 34886 entries, 0 to 34885\n",
      "Data columns (total 8 columns):\n",
      " #   Column            Non-Null Count  Dtype \n",
      "---  ------            --------------  ----- \n",
      " 0   Release Year      34886 non-null  int64 \n",
      " 1   Title             34886 non-null  object\n",
      " 2   Origin/Ethnicity  34886 non-null  object\n",
      " 3   Director          34886 non-null  object\n",
      " 4   Cast              33464 non-null  object\n",
      " 5   Genre             34886 non-null  object\n",
      " 6   Wiki Page         34886 non-null  object\n",
      " 7   Plot              34886 non-null  object\n",
      "dtypes: int64(1), object(7)\n",
      "memory usage: 2.1+ MB\n"
     ]
    }
   ],
   "source": [
    "dataset.info()"
   ]
  },
  {
   "cell_type": "code",
   "execution_count": 9,
   "id": "6f93decd-9b5c-4c95-a0c6-0aea6f19d848",
   "metadata": {},
   "outputs": [
    {
     "data": {
      "text/plain": [
       "0                unknown\n",
       "1                unknown\n",
       "2                unknown\n",
       "3                unknown\n",
       "4                unknown\n",
       "              ...       \n",
       "34881            unknown\n",
       "34882             comedy\n",
       "34883             comedy\n",
       "34884    romantic comedy\n",
       "34885           romantic\n",
       "Name: Genre, Length: 34886, dtype: object"
      ]
     },
     "execution_count": 9,
     "metadata": {},
     "output_type": "execute_result"
    }
   ],
   "source": [
    "dataset['Genre']"
   ]
  },
  {
   "cell_type": "markdown",
   "id": "61f496e1-476d-4198-9b1f-d0f1f3cd78f9",
   "metadata": {},
   "source": [
    "## Filtering only Recent movies and of comedy genre"
   ]
  },
  {
   "cell_type": "code",
   "execution_count": 19,
   "id": "7a4caa05-fc94-49ae-904b-6b3858da1218",
   "metadata": {},
   "outputs": [],
   "source": [
    "movie_filters = dataset[(dataset['Release Year']>2015) & (dataset['Genre']=='comedy')]"
   ]
  },
  {
   "cell_type": "code",
   "execution_count": 21,
   "id": "6548da3d-9203-4583-9e40-3bd600b0324a",
   "metadata": {},
   "outputs": [],
   "source": [
    "sample_doc_to_test = movie_filters"
   ]
  },
  {
   "cell_type": "code",
   "execution_count": 22,
   "id": "8313239c-5d60-4eac-a725-60b741424a33",
   "metadata": {},
   "outputs": [
    {
     "data": {
      "text/html": [
       "<div>\n",
       "<style scoped>\n",
       "    .dataframe tbody tr th:only-of-type {\n",
       "        vertical-align: middle;\n",
       "    }\n",
       "\n",
       "    .dataframe tbody tr th {\n",
       "        vertical-align: top;\n",
       "    }\n",
       "\n",
       "    .dataframe thead th {\n",
       "        text-align: right;\n",
       "    }\n",
       "</style>\n",
       "<table border=\"1\" class=\"dataframe\">\n",
       "  <thead>\n",
       "    <tr style=\"text-align: right;\">\n",
       "      <th></th>\n",
       "      <th>Release Year</th>\n",
       "      <th>Title</th>\n",
       "      <th>Origin/Ethnicity</th>\n",
       "      <th>Director</th>\n",
       "      <th>Cast</th>\n",
       "      <th>Genre</th>\n",
       "      <th>Wiki Page</th>\n",
       "      <th>Plot</th>\n",
       "    </tr>\n",
       "  </thead>\n",
       "  <tbody>\n",
       "    <tr>\n",
       "      <th>17033</th>\n",
       "      <td>2016</td>\n",
       "      <td>Dirty Grandpa</td>\n",
       "      <td>American</td>\n",
       "      <td>Dan Mazer</td>\n",
       "      <td>Zac Efron\\r\\nRobert De Niro</td>\n",
       "      <td>comedy</td>\n",
       "      <td>https://en.wikipedia.org/wiki/Dirty_Grandpa</td>\n",
       "      <td>Jason Kelly is a lawyer who works for his fath...</td>\n",
       "    </tr>\n",
       "    <tr>\n",
       "      <th>17041</th>\n",
       "      <td>2016</td>\n",
       "      <td>Hail, Caesar!</td>\n",
       "      <td>American</td>\n",
       "      <td>Coen Brothers</td>\n",
       "      <td>Josh Brolin\\r\\nGeorge Clooney</td>\n",
       "      <td>comedy</td>\n",
       "      <td>https://en.wikipedia.org/wiki/Hail,_Caesar!</td>\n",
       "      <td>In 1951, Eddie Mannix (Josh Brolin) is the hea...</td>\n",
       "    </tr>\n",
       "    <tr>\n",
       "      <th>17045</th>\n",
       "      <td>2016</td>\n",
       "      <td>Zoolander 2</td>\n",
       "      <td>American</td>\n",
       "      <td>Ben Stiller</td>\n",
       "      <td>Ben Stiller\\r\\nOwen Wilson\\r\\nPenélope Cruz\\r\\...</td>\n",
       "      <td>comedy</td>\n",
       "      <td>https://en.wikipedia.org/wiki/Zoolander_2</td>\n",
       "      <td>At Fashion Interpol, Valentina Valencia examin...</td>\n",
       "    </tr>\n",
       "    <tr>\n",
       "      <th>17062</th>\n",
       "      <td>2016</td>\n",
       "      <td>The Bronze</td>\n",
       "      <td>American</td>\n",
       "      <td>Bryan Buckley</td>\n",
       "      <td>Melissa Rauch\\r\\nThomas Middleditch</td>\n",
       "      <td>comedy</td>\n",
       "      <td>https://en.wikipedia.org/wiki/The_Bronze_(film)</td>\n",
       "      <td>Former gymnastics Bronze Medalist Hope Ann Gre...</td>\n",
       "    </tr>\n",
       "    <tr>\n",
       "      <th>17068</th>\n",
       "      <td>2016</td>\n",
       "      <td>Meet the Blacks</td>\n",
       "      <td>American</td>\n",
       "      <td>Deon Taylor</td>\n",
       "      <td>Mike Epps\\r\\nGary Owen</td>\n",
       "      <td>comedy</td>\n",
       "      <td>https://en.wikipedia.org/wiki/Meet_the_Blacks</td>\n",
       "      <td>Carl Black and his family are getting out of C...</td>\n",
       "    </tr>\n",
       "  </tbody>\n",
       "</table>\n",
       "</div>"
      ],
      "text/plain": [
       "       Release Year            Title Origin/Ethnicity       Director  \\\n",
       "17033          2016    Dirty Grandpa         American      Dan Mazer   \n",
       "17041          2016    Hail, Caesar!         American  Coen Brothers   \n",
       "17045          2016      Zoolander 2         American    Ben Stiller   \n",
       "17062          2016       The Bronze         American  Bryan Buckley   \n",
       "17068          2016  Meet the Blacks         American    Deon Taylor   \n",
       "\n",
       "                                                    Cast   Genre  \\\n",
       "17033                        Zac Efron\\r\\nRobert De Niro  comedy   \n",
       "17041                      Josh Brolin\\r\\nGeorge Clooney  comedy   \n",
       "17045  Ben Stiller\\r\\nOwen Wilson\\r\\nPenélope Cruz\\r\\...  comedy   \n",
       "17062                Melissa Rauch\\r\\nThomas Middleditch  comedy   \n",
       "17068                             Mike Epps\\r\\nGary Owen  comedy   \n",
       "\n",
       "                                             Wiki Page  \\\n",
       "17033      https://en.wikipedia.org/wiki/Dirty_Grandpa   \n",
       "17041      https://en.wikipedia.org/wiki/Hail,_Caesar!   \n",
       "17045        https://en.wikipedia.org/wiki/Zoolander_2   \n",
       "17062  https://en.wikipedia.org/wiki/The_Bronze_(film)   \n",
       "17068    https://en.wikipedia.org/wiki/Meet_the_Blacks   \n",
       "\n",
       "                                                    Plot  \n",
       "17033  Jason Kelly is a lawyer who works for his fath...  \n",
       "17041  In 1951, Eddie Mannix (Josh Brolin) is the hea...  \n",
       "17045  At Fashion Interpol, Valentina Valencia examin...  \n",
       "17062  Former gymnastics Bronze Medalist Hope Ann Gre...  \n",
       "17068  Carl Black and his family are getting out of C...  "
      ]
     },
     "execution_count": 22,
     "metadata": {},
     "output_type": "execute_result"
    }
   ],
   "source": [
    "sample_doc_to_test.head()"
   ]
  },
  {
   "cell_type": "markdown",
   "id": "b421a94a-dced-4576-96bd-aa15304c300b",
   "metadata": {},
   "source": [
    "## Extract Entities"
   ]
  },
  {
   "cell_type": "code",
   "execution_count": 24,
   "id": "aeb005dc-08db-4374-afce-8dbdc270485c",
   "metadata": {},
   "outputs": [],
   "source": [
    "movie_plots = movie_filters['Plot']"
   ]
  },
  {
   "cell_type": "code",
   "execution_count": 25,
   "id": "7b7719e0-6395-47b9-a9b4-07a95a067673",
   "metadata": {},
   "outputs": [],
   "source": [
    "txt = movie_plots[movie_plots.index[0]]"
   ]
  },
  {
   "cell_type": "code",
   "execution_count": 26,
   "id": "28d4ad96-8b43-4f43-ae32-915f92d47c93",
   "metadata": {},
   "outputs": [
    {
     "data": {
      "text/plain": [
       "\"Jason Kelly is a lawyer who works for his father. Jason's grandmother dies, and after the funeral, his Army veteran grandfather, Dick, asks Jason to drive him to Boca Raton, Florida. Jason is getting married to his controlling fiancée, Meredith, in one week, but decides to take his grandfather anyway.\\r\\nOn the way there, the two meet Jason's old photography classmate, Shadia, along with her friends Lenore and Bradley. Dick and Lenore are instantly attracted to each other. Dick tells the girls that he is a professor and that Jason is a photographer. They all go their separate ways, but Dick convinces Jason that they should meet the girls at Daytona Beach, Florida, because Dick wants to have sex with Lenore. The two go to a golf course, where Dick flirts with two women.\\r\\nAt Daytona Beach, they meet up with the girls and the girls' friends, Cody and Brah, with whom they compete in beer chugging. That night, a drunk Jason, wearing nothing but a Hornet fanny pack, parties and smokes crack cocaine that he gets from a drug dealer named Pam. He steals a motorcycle and wakes up the next day on the beach. During an awkward FaceTime with Meredith, a boy grabs the fanny pack and takes it off; his father suspects Jason of being a pervert and calls the police, who promptly arrest Jason. Dick bails him out, and the two visit Dick's old Army friend in a nursing home. They meet the girls again and enter a flexing contest with Cody and Brah; when they lose, Dick alters a T-shirt cannon to fire a beer can at the winning duo, hospitalizing them and stay at their place. After Dick reveals to Jason that he was a member of the Special Forces, the two go to a nightclub with the girls. Dick gets into a fight with some men after they bully Bradley for his homosexuality. The next day, Jason goes to a protest with Shadia and she tells him that she is leaving soon and going to live on a ship for a year.\\r\\nThat night, Jason plans on telling Shadia who he really is, but before he can, Cody does an online search on him and tells Shadia that Jason is already engaged. Jason then gets caught with drugs and is thrown into jail again. The next day, Dick bails him out and tells Jason that his real reason for the trip was to convince Jason not to go through with the wedding. Jason leaves Dick and drives back home.\\r\\nDuring his wedding rehearsal, Dick hacks into the computer system, revealing embarrassing photos of Jason during the party. Jason says that he cannot marry Meredith, who reveals that she had an affair. He, Dick, and Pam use Pam's ice cream truck to catch up with the bus that Shadia is on as she is leaving. Jason and Shadia kiss, and he gets on the bus with her. Dick goes to his house in Boca Raton and finds Lenore there waiting for him, and they have sex. Dick and Lenore get married and have a baby, and Jason and Shadia are named the godparents.\""
      ]
     },
     "execution_count": 26,
     "metadata": {},
     "output_type": "execute_result"
    }
   ],
   "source": [
    "txt"
   ]
  },
  {
   "cell_type": "code",
   "execution_count": 29,
   "id": "99458943-09cd-4df2-b32e-48ea894d4b66",
   "metadata": {},
   "outputs": [],
   "source": [
    "pre_trained_spacy_model = spacy.load('en_core_web_sm')"
   ]
  },
  {
   "cell_type": "code",
   "execution_count": 30,
   "id": "f52c7e3b-e15b-4467-85ae-87ef669fb91f",
   "metadata": {
    "tags": []
   },
   "outputs": [],
   "source": [
    "tokenized_doc = pre_trained_spacy_model(txt)"
   ]
  },
  {
   "cell_type": "code",
   "execution_count": 34,
   "id": "8d1df8ba-c447-49f0-84c3-c0d1b3d2fef3",
   "metadata": {},
   "outputs": [
    {
     "name": "stdout",
     "output_type": "stream",
     "text": [
      "[('Jason Kelly', 'PERSON'), ('Army', 'ORG'), ('Dick', 'PERSON'), ('Boca Raton', 'GPE'), ('Florida', 'GPE'), ('Meredith', 'ORG'), ('one week', 'DATE'), ('two', 'CARDINAL'), (\"Jason's old\", 'ORG'), ('Shadia', 'GPE'), ('Bradley', 'WORK_OF_ART'), ('Dick', 'PERSON'), ('Dick', 'PERSON'), ('Jason', 'PERSON'), ('Dick', 'PERSON'), ('Jason', 'PERSON'), ('Daytona Beach', 'GPE'), ('Florida', 'GPE'), ('Dick', 'PERSON'), ('two', 'CARDINAL'), ('Dick', 'PERSON'), ('two', 'CARDINAL'), ('Daytona Beach', 'GPE'), ('Cody', 'PERSON'), ('Brah', 'PERSON'), ('Jason', 'PERSON'), ('Hornet', 'NORP'), ('the next day', 'DATE'), ('Meredith', 'ORG'), ('Jason', 'PERSON'), ('Dick', 'PERSON'), ('two', 'CARDINAL'), ('Dick', 'PERSON'), ('Army', 'ORG'), ('Cody', 'PERSON'), ('Brah', 'PERSON'), ('Dick', 'PERSON'), ('Dick', 'PERSON'), ('the Special Forces', 'ORG'), ('two', 'CARDINAL'), ('Dick', 'PERSON'), ('Bradley', 'PRODUCT'), ('The next day', 'DATE'), ('Jason', 'PERSON'), ('Shadia', 'GPE'), ('a year', 'DATE'), ('Jason', 'PERSON'), ('Shadia', 'PERSON'), ('Cody', 'PERSON'), ('Shadia', 'GPE'), ('The next day', 'DATE'), ('Dick', 'PERSON'), ('Dick', 'PERSON'), ('Dick', 'PERSON'), ('Jason', 'PERSON'), ('Meredith', 'ORG'), ('Dick', 'PERSON'), ('Shadia', 'GPE'), ('Shadia', 'GPE'), ('Dick', 'PERSON'), ('Boca Raton', 'GPE'), ('Dick', 'PERSON'), ('Jason', 'PERSON'), ('Shadia', 'GPE')]\n"
     ]
    }
   ],
   "source": [
    "print([(entity.text,entity.label_) for entity in tokenized_doc.ents])"
   ]
  },
  {
   "cell_type": "code",
   "execution_count": null,
   "id": "0a5daf03-e9e1-4df3-9c3d-7bb92d2c777a",
   "metadata": {},
   "outputs": [],
   "source": []
  }
 ],
 "metadata": {
  "kernelspec": {
   "display_name": "Python 3 (ipykernel)",
   "language": "python",
   "name": "python3"
  },
  "language_info": {
   "codemirror_mode": {
    "name": "ipython",
    "version": 3
   },
   "file_extension": ".py",
   "mimetype": "text/x-python",
   "name": "python",
   "nbconvert_exporter": "python",
   "pygments_lexer": "ipython3",
   "version": "3.10.1"
  }
 },
 "nbformat": 4,
 "nbformat_minor": 5
}
