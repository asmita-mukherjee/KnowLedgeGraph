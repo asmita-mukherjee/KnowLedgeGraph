{
 "cells": [
  {
   "cell_type": "markdown",
   "id": "b6d8e094-6988-4c8a-8daf-785b5fff563c",
   "metadata": {
    "tags": []
   },
   "source": [
    "## Load Data"
   ]
  },
  {
   "cell_type": "code",
   "execution_count": 1,
   "id": "6ef2b74b-50e7-41a8-94cb-3ea0cd2dac8f",
   "metadata": {},
   "outputs": [],
   "source": [
    "import pandas as pd"
   ]
  },
  {
   "cell_type": "code",
   "execution_count": 3,
   "id": "eafffed1-9144-4983-a9ee-a6c0606d66c1",
   "metadata": {},
   "outputs": [],
   "source": [
    "path_to_the_data = 'Data\\wiki_movie_plots_deduped.csv'"
   ]
  },
  {
   "cell_type": "code",
   "execution_count": 4,
   "id": "f066eb8d-9835-4077-a212-22a05b2b0200",
   "metadata": {},
   "outputs": [],
   "source": [
    "dataset = pd.read_csv(path_to_the_data)"
   ]
  },
  {
   "cell_type": "code",
   "execution_count": 5,
   "id": "170ee114-125b-4fb7-aab2-5905cb5185ee",
   "metadata": {},
   "outputs": [
    {
     "name": "stdout",
     "output_type": "stream",
     "text": [
      "<class 'pandas.core.frame.DataFrame'>\n",
      "RangeIndex: 34886 entries, 0 to 34885\n",
      "Data columns (total 8 columns):\n",
      " #   Column            Non-Null Count  Dtype \n",
      "---  ------            --------------  ----- \n",
      " 0   Release Year      34886 non-null  int64 \n",
      " 1   Title             34886 non-null  object\n",
      " 2   Origin/Ethnicity  34886 non-null  object\n",
      " 3   Director          34886 non-null  object\n",
      " 4   Cast              33464 non-null  object\n",
      " 5   Genre             34886 non-null  object\n",
      " 6   Wiki Page         34886 non-null  object\n",
      " 7   Plot              34886 non-null  object\n",
      "dtypes: int64(1), object(7)\n",
      "memory usage: 2.1+ MB\n"
     ]
    }
   ],
   "source": [
    "dataset.info()"
   ]
  },
  {
   "cell_type": "markdown",
   "id": "7f972973-6397-45fa-baa2-5b0e66b709df",
   "metadata": {
    "tags": []
   },
   "source": [
    "## Select Subset"
   ]
  },
  {
   "cell_type": "code",
   "execution_count": 6,
   "id": "3c1838bf-6285-4925-ba3a-48954cde6761",
   "metadata": {},
   "outputs": [],
   "source": [
    "movies_selected = dataset[dataset['Release Year'] >=2005]"
   ]
  },
  {
   "cell_type": "code",
   "execution_count": 9,
   "id": "924f05a2-273d-4fc1-ad1c-ae614024e735",
   "metadata": {},
   "outputs": [],
   "source": [
    "movie_plot = movies_selected['Plot']"
   ]
  },
  {
   "cell_type": "code",
   "execution_count": 10,
   "id": "c45dbce1-a276-4587-ad4f-ad542a026da1",
   "metadata": {},
   "outputs": [
    {
     "data": {
      "text/plain": [
       "14591    Andy Stitzer is a 40-year-old virgin who lives...\n",
       "14592    51 Birch Street is the first-person account of...\n",
       "14593    Max is a lonely child in the suburbs of Austin...\n",
       "14594    In 2011, a deadly pathogenic virus has killed ...\n",
       "14595    In 1974, Ronald DeFeo Jr. murdered his family ...\n",
       "Name: Plot, dtype: object"
      ]
     },
     "execution_count": 10,
     "metadata": {},
     "output_type": "execute_result"
    }
   ],
   "source": [
    "movie_plot.head()"
   ]
  },
  {
   "cell_type": "markdown",
   "id": "11162e2d-aa7b-45bf-96be-ca2c40459214",
   "metadata": {},
   "source": [
    "## Split plots into phrases"
   ]
  },
  {
   "cell_type": "code",
   "execution_count": 25,
   "id": "edf6e8fd-b1ee-4c7e-8be5-f608c173afa4",
   "metadata": {},
   "outputs": [
    {
     "data": {
      "text/plain": [
       "'J'"
      ]
     },
     "execution_count": 25,
     "metadata": {},
     "output_type": "execute_result"
    }
   ],
   "source": [
    "phrases[10]"
   ]
  },
  {
   "cell_type": "code",
   "execution_count": 26,
   "id": "45f3365a-715d-45f1-9b23-3299f401d681",
   "metadata": {},
   "outputs": [],
   "source": [
    "phrases = []\n",
    "\n",
    "for plot in movie_plot.head(1000):\n",
    "    phrases_all = plot.split('.')\n",
    "    phrases_filtered = [p.strip() for p in phrases_all if p.strip() and len(p.strip())>3]\n",
    "    phrases += phrases_filtered\n",
    "    "
   ]
  },
  {
   "cell_type": "code",
   "execution_count": 27,
   "id": "120195ec-4cb3-4ae1-8ffb-d8fd75d2d88c",
   "metadata": {},
   "outputs": [],
   "source": [
    "from textacy.extract import subject_verb_object_triples"
   ]
  },
  {
   "cell_type": "code",
   "execution_count": 28,
   "id": "6ddac4f4-4173-44b3-bc67-bfa69a684cfa",
   "metadata": {},
   "outputs": [],
   "source": [
    "import spacy\n",
    "pre_trained_spacy_model = spacy.load('en_core_web_sm')"
   ]
  },
  {
   "cell_type": "code",
   "execution_count": 29,
   "id": "867732ab-40dc-4440-99e9-1a58a0dd9492",
   "metadata": {},
   "outputs": [
    {
     "name": "stdout",
     "output_type": "stream",
     "text": [
      "SVOTriple(subject=[I], verb=[am, eating], object=[apple])\n"
     ]
    }
   ],
   "source": [
    "doc = pre_trained_spacy_model(\"I am eating an apple\")\n",
    "iterator = subject_verb_object_triples(doc)\n",
    "\n",
    "for item in iterator:\n",
    "    print(item)\n"
   ]
  },
  {
   "cell_type": "markdown",
   "id": "b8171ba1-5181-4d04-ada7-729fc2f817d7",
   "metadata": {
    "tags": []
   },
   "source": [
    "## Extract the SVO triples from the phrases"
   ]
  },
  {
   "cell_type": "code",
   "execution_count": 30,
   "id": "279864c3-46ee-4e73-8507-9883a4eb7bd9",
   "metadata": {},
   "outputs": [],
   "source": [
    "from tqdm import tqdm #used to show the time and progrss "
   ]
  },
  {
   "cell_type": "code",
   "execution_count": 32,
   "id": "bc41943b-a689-4993-b8e5-3309d3be6999",
   "metadata": {},
   "outputs": [
    {
     "name": "stderr",
     "output_type": "stream",
     "text": [
      "100%|████████████████████████████████████████████████████████████████████████████| 28127/28127 [07:16<00:00, 64.44it/s]\n"
     ]
    }
   ],
   "source": [
    "triples_raw = []\n",
    "\n",
    "for p in tqdm(phrases):\n",
    "    iterator = subject_verb_object_triples(pre_trained_spacy_model(p))\n",
    "    phrases_triples = []\n",
    "    \n",
    "    for svo in iterator:\n",
    "        \n",
    "        phrases_triples.append(svo)\n",
    "        \n",
    "    triples_raw.append(phrases_triples)\n"
   ]
  },
  {
   "cell_type": "code",
   "execution_count": 33,
   "id": "969ac2dc-f0fc-4341-b3ae-eda7d425c66d",
   "metadata": {},
   "outputs": [
    {
     "data": {
      "text/plain": [
       "[[],\n",
       " [SVOTriple(subject=[him], verb=[lose], object=[virginity])],\n",
       " [SVOTriple(subject=[men], verb=[give], object=[Andy, advice])],\n",
       " [SVOTriple(subject=[Cal], verb=[advises], object=[Andy]),\n",
       "  SVOTriple(subject=[he], verb=[practices], object=[which]),\n",
       "  SVOTriple(subject=[who], verb=[becomes, intrigued], object=[him])],\n",
       " [SVOTriple(subject=[David], verb=[gives], object=[porn, collection])],\n",
       " [SVOTriple(subject=[Mooj], verb=[stresses], object=[importance])],\n",
       " [SVOTriple(subject=[Andy], verb=[begins], object=[to, socialize, and, form, friendships, with, his, co, -])],\n",
       " [SVOTriple(subject=[David], verb=[has], object=[breakdown])],\n",
       " [SVOTriple(subject=[manager, Paula], verb=[promotes], object=[Andy])],\n",
       " [SVOTriple(subject=[Jay], verb=[attempts], object=[to, quicken, the, process, by, tricking, Andy, into, meeting, a, prostitute])]]"
      ]
     },
     "execution_count": 33,
     "metadata": {},
     "output_type": "execute_result"
    }
   ],
   "source": [
    "triples_raw[:10]"
   ]
  },
  {
   "cell_type": "markdown",
   "id": "e8b8dd62-02bc-410e-bbb1-747271d90718",
   "metadata": {
    "tags": []
   },
   "source": [
    "## Lemmatize and Stem SVO triples"
   ]
  },
  {
   "cell_type": "code",
   "execution_count": 34,
   "id": "a2bbd77b-b62a-49ba-a4d3-c508a1cf7caf",
   "metadata": {},
   "outputs": [],
   "source": [
    "from nltk.stem import WordNetLemmatizer,SnowballStemmer #for lemmatization and stemming respectively"
   ]
  },
  {
   "cell_type": "code",
   "execution_count": 40,
   "id": "0bb4080d-789d-4554-a202-a588a9136692",
   "metadata": {},
   "outputs": [],
   "source": [
    "from nltk.corpus.reader.wordnet import VERB"
   ]
  },
  {
   "cell_type": "code",
   "execution_count": 41,
   "id": "ebeafb94-d2e4-4d72-935b-1733cb499a79",
   "metadata": {},
   "outputs": [],
   "source": [
    "def return_stemmed_lemmatized_token(token):\n",
    "    lemmatizer = WordNetLemmatizer()\n",
    "    stemmer = SnowballStemmer(language = 'english')\n",
    "    \n",
    "    lemmatized_token = lemmatizer.lemmatize(token, pos='v')\n",
    "    \n",
    "    stemmed_token = stemmer.stem(lemmatized_token)\n",
    "    \n",
    "    return stemmed_token"
   ]
  },
  {
   "cell_type": "code",
   "execution_count": 46,
   "id": "e114e4c4-83ac-4628-a6a1-ad874b92f64a",
   "metadata": {},
   "outputs": [],
   "source": [
    "phrase_counter = 0\n",
    "found_triples_counter = 0\n",
    "lemmatized_triples = []\n",
    "lemmatized_stemmed_triples = []\n",
    "\n",
    "lemmatizer = WordNetLemmatizer()\n",
    "\n",
    "for (phrase,phrase_triples) in zip(phrases,triples_raw):\n",
    "    \n",
    "    if len(phrase) > 0:\n",
    "        phrase_counter +=1\n",
    "        \n",
    "    if phrase_triples:\n",
    "        found_triples_counter +=1\n",
    "        \n",
    "        for triple in phrase_triples:\n",
    "            \n",
    "            #lemmatize\n",
    "            sub = lemmatizer.lemmatize(str(triple[0]))\n",
    "            obj = lemmatizer.lemmatize(str(triple[2]))\n",
    "            verb = lemmatizer.lemmatize(str(triple[1][-1]),VERB)\n",
    "            \n",
    "            #lemmatize and stem\n",
    "            sub_ls = return_stemmed_lemmatized_token(str(triple[0]))\n",
    "            obj_ls = return_stemmed_lemmatized_token(str(triple[2]))\n",
    "            verb_ls = return_stemmed_lemmatized_token(str(triple[1][-1]))\n",
    "            \n",
    "            \n",
    "            lemmatized_triples.append([sub.lower(),verb.lower(),obj.lower()])\n",
    "            lemmatized_stemmed_triples.append([sub_ls.lower(),verb_ls.lower(),obj_ls.lower()])\n",
    "            \n",
    "    else:\n",
    "        lemmatized_triples.append([])\n",
    "        lemmatized_stemmed_triples.append([])\n",
    "        \n",
    "            \n",
    "            \n",
    "            "
   ]
  },
  {
   "cell_type": "markdown",
   "id": "6314fe9f-73a5-467b-a1d8-197ed1b202b9",
   "metadata": {},
   "source": [
    "Textacy lib is not always successfully able to detect triples , hence checking the conversion rate in our case"
   ]
  },
  {
   "cell_type": "code",
   "execution_count": 48,
   "id": "6abff391-eb84-406d-adcb-db830995cd3a",
   "metadata": {},
   "outputs": [
    {
     "name": "stdout",
     "output_type": "stream",
     "text": [
      "Detection Rate:  0.7365876204358801\n"
     ]
    }
   ],
   "source": [
    "print(\"Detection Rate: \", (found_triples_counter)/phrase_counter)"
   ]
  },
  {
   "cell_type": "markdown",
   "id": "ae94d140-f8a3-473a-8851-c9b0ff765635",
   "metadata": {},
   "source": [
    "# Create Graph"
   ]
  },
  {
   "cell_type": "markdown",
   "id": "d9642175-67e3-443c-a438-f22971f4655c",
   "metadata": {
    "tags": []
   },
   "source": [
    "Create SVO dataframe"
   ]
  },
  {
   "cell_type": "code",
   "execution_count": 49,
   "id": "d47ed169-65be-4204-9e70-8e75b8a6a65f",
   "metadata": {},
   "outputs": [],
   "source": [
    "sources = []\n",
    "relations = []\n",
    "targets = []\n"
   ]
  },
  {
   "cell_type": "code",
   "execution_count": 50,
   "id": "283a84eb-fee1-4d63-909a-667f724d1629",
   "metadata": {},
   "outputs": [],
   "source": [
    "for ep_item in lemmatized_stemmed_triples:\n",
    "    \n",
    "    #check if items not found in list\n",
    "    if ep_item:\n",
    "        sources.append(ep_item[0])\n",
    "        relations.append(ep_item[1])\n",
    "        targets.append(ep_item[2])\n",
    "        "
   ]
  },
  {
   "cell_type": "code",
   "execution_count": 51,
   "id": "6075253f-93db-49df-ab5f-5bff52c144bc",
   "metadata": {},
   "outputs": [],
   "source": [
    "KG_df = pd.DataFrame({'source':sources,'target':relations,'verb':targets})"
   ]
  },
  {
   "cell_type": "code",
   "execution_count": 52,
   "id": "0bf8af5f-a02b-49ee-9121-b0cf322e9b5e",
   "metadata": {},
   "outputs": [
    {
     "data": {
      "text/html": [
       "<div>\n",
       "<style scoped>\n",
       "    .dataframe tbody tr th:only-of-type {\n",
       "        vertical-align: middle;\n",
       "    }\n",
       "\n",
       "    .dataframe tbody tr th {\n",
       "        vertical-align: top;\n",
       "    }\n",
       "\n",
       "    .dataframe thead th {\n",
       "        text-align: right;\n",
       "    }\n",
       "</style>\n",
       "<table border=\"1\" class=\"dataframe\">\n",
       "  <thead>\n",
       "    <tr style=\"text-align: right;\">\n",
       "      <th></th>\n",
       "      <th>source</th>\n",
       "      <th>target</th>\n",
       "      <th>verb</th>\n",
       "    </tr>\n",
       "  </thead>\n",
       "  <tbody>\n",
       "    <tr>\n",
       "      <th>0</th>\n",
       "      <td>[him]</td>\n",
       "      <td>lose</td>\n",
       "      <td>[virginity]</td>\n",
       "    </tr>\n",
       "    <tr>\n",
       "      <th>1</th>\n",
       "      <td>[men]</td>\n",
       "      <td>give</td>\n",
       "      <td>[andy, advice]</td>\n",
       "    </tr>\n",
       "    <tr>\n",
       "      <th>2</th>\n",
       "      <td>[cal]</td>\n",
       "      <td>advis</td>\n",
       "      <td>[andy]</td>\n",
       "    </tr>\n",
       "    <tr>\n",
       "      <th>3</th>\n",
       "      <td>[he]</td>\n",
       "      <td>practic</td>\n",
       "      <td>[which]</td>\n",
       "    </tr>\n",
       "    <tr>\n",
       "      <th>4</th>\n",
       "      <td>[who]</td>\n",
       "      <td>intrigu</td>\n",
       "      <td>[him]</td>\n",
       "    </tr>\n",
       "  </tbody>\n",
       "</table>\n",
       "</div>"
      ],
      "text/plain": [
       "  source   target            verb\n",
       "0  [him]     lose     [virginity]\n",
       "1  [men]     give  [andy, advice]\n",
       "2  [cal]    advis          [andy]\n",
       "3   [he]  practic         [which]\n",
       "4  [who]  intrigu           [him]"
      ]
     },
     "execution_count": 52,
     "metadata": {},
     "output_type": "execute_result"
    }
   ],
   "source": [
    "KG_df.head()"
   ]
  },
  {
   "cell_type": "code",
   "execution_count": null,
   "id": "7f32aa37-e504-4907-b711-4ccb3e9593ae",
   "metadata": {},
   "outputs": [],
   "source": []
  }
 ],
 "metadata": {
  "kernelspec": {
   "display_name": "Python 3 (ipykernel)",
   "language": "python",
   "name": "python3"
  },
  "language_info": {
   "codemirror_mode": {
    "name": "ipython",
    "version": 3
   },
   "file_extension": ".py",
   "mimetype": "text/x-python",
   "name": "python",
   "nbconvert_exporter": "python",
   "pygments_lexer": "ipython3",
   "version": "3.10.1"
  }
 },
 "nbformat": 4,
 "nbformat_minor": 5
}
