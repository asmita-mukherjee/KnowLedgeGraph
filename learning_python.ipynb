{
 "cells": [
  {
   "cell_type": "markdown",
   "id": "60fe01ad-30d2-49ef-b36e-97818c407f7f",
   "metadata": {},
   "source": [
    "## Pandas"
   ]
  },
  {
   "cell_type": "code",
   "execution_count": 1,
   "id": "ca6f1f3b-10e3-4e7c-9aa2-2c851f958e0a",
   "metadata": {},
   "outputs": [],
   "source": [
    "import pandas as pd"
   ]
  },
  {
   "cell_type": "code",
   "execution_count": 5,
   "id": "5d5ab8db-f531-471d-82c2-9800ad29abcf",
   "metadata": {},
   "outputs": [],
   "source": [
    "import numpy as np"
   ]
  },
  {
   "cell_type": "code",
   "execution_count": 3,
   "id": "2b7b6aa8-7d41-48d8-876f-000b64d2872f",
   "metadata": {},
   "outputs": [],
   "source": [
    "# understanding map\n",
    "\n",
    "## apply works on a row / column basis of a DataFrame, applymap works element-wise on a DataFrame, and map works element-wise on a Series."
   ]
  },
  {
   "cell_type": "code",
   "execution_count": 13,
   "id": "bbcbade2-584b-4c12-b073-972995e5f73c",
   "metadata": {},
   "outputs": [],
   "source": [
    "s = pd.Series(['cat', 'dog', np.nan, 'rabbit'])"
   ]
  },
  {
   "cell_type": "code",
   "execution_count": 14,
   "id": "98c6f1f3-bbbc-49bc-95c4-020864507ad3",
   "metadata": {},
   "outputs": [],
   "source": [
    "def trial_fun(text):\n",
    "    print(\"Hello {}\".format(text))"
   ]
  },
  {
   "cell_type": "code",
   "execution_count": 18,
   "id": "9edc0812-88fe-4c0d-b9f5-940fd27e4f8d",
   "metadata": {
    "tags": []
   },
   "outputs": [
    {
     "name": "stdout",
     "output_type": "stream",
     "text": [
      "Hello cat\n",
      "Hello dog\n",
      "Hello nan\n",
      "Hello rabbit\n"
     ]
    },
    {
     "data": {
      "text/plain": [
       "0    None\n",
       "1    None\n",
       "2    None\n",
       "3    None\n",
       "dtype: object"
      ]
     },
     "execution_count": 18,
     "metadata": {},
     "output_type": "execute_result"
    }
   ],
   "source": [
    "s.map(trial_fun) \n",
    "\n",
    "#the below part is gettiing printed due to the indexes\n",
    "\n"
   ]
  },
  {
   "cell_type": "code",
   "execution_count": 19,
   "id": "ace4c67b-4243-4de0-837e-3b348e9b9097",
   "metadata": {},
   "outputs": [
    {
     "name": "stdout",
     "output_type": "stream",
     "text": [
      "Hello cat\n",
      "Hello dog\n",
      "Hello nan\n",
      "Hello rabbit\n"
     ]
    },
    {
     "data": {
      "text/plain": [
       "pandas.core.series.Series"
      ]
     },
     "execution_count": 19,
     "metadata": {},
     "output_type": "execute_result"
    }
   ],
   "source": [
    "type(s.map(trial_fun)) ## The output is  a pd.Series"
   ]
  },
  {
   "cell_type": "code",
   "execution_count": 17,
   "id": "52f42f8f-a71d-475b-8d5b-481cc6a0b484",
   "metadata": {},
   "outputs": [
    {
     "data": {
      "text/plain": [
       "0       I am a cat\n",
       "1       I am a dog\n",
       "2       I am a nan\n",
       "3    I am a rabbit\n",
       "dtype: object"
      ]
     },
     "execution_count": 17,
     "metadata": {},
     "output_type": "execute_result"
    }
   ],
   "source": [
    "s.map('I am a {}'.format)"
   ]
  },
  {
   "cell_type": "code",
   "execution_count": null,
   "id": "48cae229-87bd-40e0-8677-bfdb9aede1c0",
   "metadata": {},
   "outputs": [],
   "source": []
  }
 ],
 "metadata": {
  "kernelspec": {
   "display_name": "Python 3 (ipykernel)",
   "language": "python",
   "name": "python3"
  },
  "language_info": {
   "codemirror_mode": {
    "name": "ipython",
    "version": 3
   },
   "file_extension": ".py",
   "mimetype": "text/x-python",
   "name": "python",
   "nbconvert_exporter": "python",
   "pygments_lexer": "ipython3",
   "version": "3.10.1"
  }
 },
 "nbformat": 4,
 "nbformat_minor": 5
}
